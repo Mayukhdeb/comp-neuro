{
  "cells": [
    {
      "cell_type": "markdown",
      "id": "4358ac76",
      "metadata": {
        "id": "4358ac76"
      },
      "source": [
        "**Note**: Feel free to use CoPilot/ChatGPT for editing/plotting your findings"
      ]
    },
    {
      "cell_type": "code",
      "execution_count": null,
      "id": "9d3834d6",
      "metadata": {
        "id": "9d3834d6"
      },
      "outputs": [],
      "source": [
        "!pip install git+https://github.com/Mayukhdeb/comp-neuro.git"
      ]
    },
    {
      "cell_type": "code",
      "execution_count": null,
      "id": "2b9fb5ce",
      "metadata": {
        "id": "2b9fb5ce"
      },
      "outputs": [],
      "source": [
        "import torch.nn as nn\n",
        "import torch\n",
        "from compneuro.training import train_model\n",
        "from compneuro.mlp import build_mlp_model, visualize_mlp\n",
        "from compneuro.utils.video import show_video\n",
        "\n",
        "save_dir = \"results/vis/single_neuron\""
      ]
    },
    {
      "cell_type": "code",
      "execution_count": null,
      "id": "e168231a",
      "metadata": {
        "id": "e168231a"
      },
      "outputs": [],
      "source": [
        "model = build_mlp_model(\n",
        "    size_sequence=[1, 5, 1],\n",
        ")\n",
        "visualize_mlp(model=model, fig_width = 5, fig_height=5)"
      ]
    },
    {
      "cell_type": "code",
      "execution_count": null,
      "id": "35f1ad1e",
      "metadata": {
        "id": "35f1ad1e"
      },
      "outputs": [],
      "source": [
        "model = build_mlp_model(\n",
        "    ## Try training a super wide but shallow network\n",
        "    ## then try training a super deep (~5 layers) but narrow network\n",
        "    size_sequence=[1, 1], ## TASK: vary this and see it's effect on the test loss.\n",
        "    bias = True,\n",
        "    activation=nn.ReLU()\n",
        ")"
      ]
    },
    {
      "cell_type": "code",
      "execution_count": null,
      "id": "07efab3e",
      "metadata": {
        "id": "07efab3e"
      },
      "outputs": [],
      "source": [
        "test_loss = train_model(\n",
        "    model=model,\n",
        "    dataset_name=\"noisy_line\", ## TASK: try out different datasets like\n",
        "    noisy_data=True, ## set this to True only if dataset_name is noisy_line. Else set it to False\n",
        "    dataset_noise=0.2,\n",
        "    learning_rate=0.03,  ## TASK: vary this and see it's effect on the test loss\n",
        "    batch_size=32,\n",
        "    num_epochs=100,\n",
        "    num_data_points=50,\n",
        "    test_data_fraction=0.3,\n",
        "    visualize_every_nth_step=1,\n",
        "    video_frames_folder=save_dir,\n",
        "    save_video_as=\"training.mp4\",\n",
        "    device = \"cuda\" if torch.cuda.is_available() else \"cpu\"\n",
        ")\n",
        "show_video(filename=\"training.mp4\", width = 600)"
      ]
    },
    {
      "cell_type": "code",
      "execution_count": null,
      "id": "d2f9d1a4",
      "metadata": {
        "id": "d2f9d1a4"
      },
      "outputs": [],
      "source": [
        "all_dataset_names = [\n",
        "    \"sine_wave\",\n",
        "    \"line\",\n",
        "    \"line_through_zero\",\n",
        "    \"zigzag_line\",\n",
        "    \"x_square\",\n",
        "    \"wedge\",\n",
        "    \"elbow\",\n",
        "    \"sin_relu\",\n",
        "    \"noisy_line\",\n",
        "]"
      ]
    },
    {
      "cell_type": "markdown",
      "id": "61baccc0",
      "metadata": {
        "id": "61baccc0"
      },
      "source": [
        "# After playing around with the models, try to find the answers to the following questions:\n",
        "\n",
        "1. How does depth and width of a network affect it’s performance? (plot/show results on 2 datasets and plot test loss v/s depth and test loss v/s width)\n",
        "2. What happens when the learning rate is too high/low in a model? Log your results and write a blurb about what you find.\n",
        "\n",
        "Submit the pdf version of your notebook in Canvas by clicking on \"File\" at the top right and then clicking on \"Print\"\n",
        "\n",
        "\n",
        "![](attachment:image.png)"
      ]
    },
    {
      "cell_type": "markdown",
      "id": "8db7db58",
      "metadata": {
        "id": "8db7db58"
      },
      "source": []
    },
    {
      "cell_type": "code",
      "execution_count": null,
      "id": "a93c21ac",
      "metadata": {
        "id": "a93c21ac"
      },
      "outputs": [],
      "source": []
    }
  ],
  "metadata": {
    "kernelspec": {
      "display_name": "Python 3 (ipykernel)",
      "language": "python",
      "name": "python3"
    },
    "language_info": {
      "codemirror_mode": {
        "name": "ipython",
        "version": 3
      },
      "file_extension": ".py",
      "mimetype": "text/x-python",
      "name": "python",
      "nbconvert_exporter": "python",
      "pygments_lexer": "ipython3",
      "version": "3.10.16"
    },
    "colab": {
      "provenance": []
    }
  },
  "nbformat": 4,
  "nbformat_minor": 5
}