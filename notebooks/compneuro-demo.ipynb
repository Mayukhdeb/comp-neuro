{
  "cells": [
    {
      "cell_type": "code",
      "execution_count": null,
      "metadata": {
        "colab": {
          "base_uri": "https://localhost:8080/"
        },
        "collapsed": true,
        "id": "xzxAeEHUQO3G",
        "outputId": "fd3392af-c255-4c8c-85a9-53b0fb1f1808"
      },
      "outputs": [],
      "source": [
        "!pip install git+https://github.com/murtylab/comp-neuro.git"
      ]
    },
    {
      "cell_type": "code",
      "execution_count": 13,
      "metadata": {
        "id": "oS06QM2PQVOT"
      },
      "outputs": [],
      "source": [
        "import torch.nn as nn\n",
        "import torch\n",
        "from compneuro.training import train_model\n",
        "from compneuro.mlp import build_mlp_model, visualize_mlp\n",
        "from compneuro.utils.video import show_video\n",
        "\n",
        "save_dir = \"results/vis/single_neuron\""
      ]
    },
    {
      "cell_type": "code",
      "execution_count": null,
      "metadata": {},
      "outputs": [],
      "source": [
        "default_train_config = dict(\n",
        "    learning_rate=0.03,\n",
        "    batch_size=32,\n",
        "    num_epochs=100,\n",
        "    num_data_points=50,\n",
        "    test_data_fraction=0.3,\n",
        "    visualize_every_nth_step=1,\n",
        "    video_frames_folder=save_dir,\n",
        "    save_video_as=\"training.mp4\",\n",
        "    device = \"cuda\" if torch.cuda.is_available() else \"cpu\"\n",
        ")"
      ]
    },
    {
      "cell_type": "markdown",
      "metadata": {
        "id": "kX15hypiQsyb"
      },
      "source": [
        "# Train a single neuron to fit a line"
      ]
    },
    {
      "cell_type": "code",
      "execution_count": null,
      "metadata": {
        "colab": {
          "base_uri": "https://localhost:8080/"
        },
        "id": "rfpzfpoWQrb6",
        "outputId": "e9815c32-f658-4391-f607-28610761e7db"
      },
      "outputs": [],
      "source": [
        "model = build_mlp_model(\n",
        "    size_sequence=[1, 1],\n",
        ")\n",
        "print(f\"Weight before training: {model[0].weight.data[0].item()}\")"
      ]
    },
    {
      "cell_type": "code",
      "execution_count": null,
      "metadata": {
        "colab": {
          "base_uri": "https://localhost:8080/"
        },
        "id": "L2TFNvdMQw1u",
        "outputId": "66fedcf3-c26e-4765-861b-d8db1be11d0e"
      },
      "outputs": [],
      "source": [
        "test_loss = train_model(\n",
        "    model=model,\n",
        "    dataset_name=\"line_through_zero\", ## options: \"sine_wave\", \"line\", \"zigzag_line\"\n",
        "    **default_train_config\n",
        ")"
      ]
    },
    {
      "cell_type": "code",
      "execution_count": null,
      "metadata": {
        "colab": {
          "base_uri": "https://localhost:8080/",
          "height": 476
        },
        "id": "iXJ0WHZnQ-LT",
        "outputId": "25907f68-e92a-4180-daba-88de2b8d7327"
      },
      "outputs": [],
      "source": [
        "show_video(filename=\"training.mp4\", width = 600)"
      ]
    },
    {
      "cell_type": "markdown",
      "metadata": {
        "id": "lvjnH9rsRclK"
      },
      "source": [
        "# Now what if the line does not go through the origin? would it still work?"
      ]
    },
    {
      "cell_type": "code",
      "execution_count": null,
      "metadata": {
        "colab": {
          "base_uri": "https://localhost:8080/",
          "height": 529
        },
        "id": "7iNE3xBSRVuw",
        "outputId": "f0ad072f-c59a-42ba-b112-b72df9962605"
      },
      "outputs": [],
      "source": [
        "model = build_mlp_model(\n",
        "    size_sequence=[1, 1],\n",
        ")\n",
        "test_loss = train_model(\n",
        "    model=model,\n",
        "    dataset_name=\"line\", ## options: \"sine_wave\", \"line\", \"zigzag_line\"\n",
        "    **default_train_config\n",
        ")\n",
        "show_video(filename=\"training.mp4\", width = 600)"
      ]
    },
    {
      "cell_type": "markdown",
      "metadata": {
        "id": "Kg2UTd1bRw_3"
      },
      "source": [
        "# This is why, we need a bias. It helps fit to a line which does not pass through the origin."
      ]
    },
    {
      "cell_type": "code",
      "execution_count": null,
      "metadata": {
        "colab": {
          "base_uri": "https://localhost:8080/",
          "height": 529
        },
        "id": "J8MhgwSpRfpr",
        "outputId": "4732b1e9-a6f0-4f1b-bbd7-d6ad0fcffb73"
      },
      "outputs": [],
      "source": [
        "model = build_mlp_model(\n",
        "    size_sequence=[1, 1],\n",
        "    bias=True\n",
        ")\n",
        "test_loss = train_model(\n",
        "    model=model,\n",
        "    dataset_name=\"line\", ## other options: \"sine_wave\", \"line\", \"zigzag_line\"\n",
        "    **default_train_config# Can a Single neuron model learn something more complex?train_config\n",
        ")\n",
        "show_video(filename=\"training.mp4\", width = 600)"
      ]
    },
    {
      "cell_type": "markdown",
      "metadata": {
        "id": "Ic4mOluLTNXG"
      },
      "source": [
        "# Can a Single neuron model learn something more complex?"
      ]
    },
    {
      "cell_type": "code",
      "execution_count": null,
      "metadata": {
        "colab": {
          "base_uri": "https://localhost:8080/",
          "height": 529
        },
        "id": "FWPzrtGCR1Zo",
        "outputId": "193f7e00-8ae3-4c8f-a89d-dff0a6564c8b"
      },
      "outputs": [],
      "source": [
        "model = build_mlp_model(\n",
        "    size_sequence=[1, 1, 1], ## stack more neurons here in any way you want, it'll still not fit to the wedge data\n",
        "    bias=True\n",
        ")\n",
        "\n",
        "test_loss = train_model(\n",
        "    model=model,\n",
        "    dataset_name=\"elbow\",\n",
        "    **default_train_config\n",
        ")\n",
        "show_video(filename=\"training.mp4\", width = 600)"
      ]
    },
    {
      "cell_type": "markdown",
      "metadata": {
        "id": "2PvZoux9TUp0"
      },
      "source": [
        "## Note that stacking more neurons is the same as having one neuron with a different weight and bias\n",
        "\n",
        "Say we have a 2-neuron model:  \n",
        "\n",
        "$$\n",
        "y = w_2 (w_1 x + b_1) + b_2\n",
        "$$\n",
        "\n",
        "This can be rewritten as:  \n",
        "\n",
        "$$\n",
        "y = w_2 w_1 x + w_2 b_1 + b_2\n",
        "$$\n",
        "\n",
        "$$\n",
        "y = W x + B\n",
        "$$\n",
        "\n",
        "where  \n",
        "\n",
        "$$\n",
        "W = w_2 w_1, \\quad B = w_2 b_1 + b_2.\n",
        "$$\n",
        "\n",
        "Thus, the composition of two neurons is equivalent to a single neuron with an effective weight $W$ and bias $B$.\n",
        "\n",
        "<!-- Or let's say we have a model with 2 hidden neurons:\n",
        "\n",
        "$$\n",
        "y_1 = w_1 x + b_1 \\quad \\text{and} \\quad y_2 = w_2 x + b_2\n",
        "$$ -->\n",
        "\n",
        "<!-- Now, if we have these two neurons connected to a single output neuron with weights $w_3$ and $w_4$ and bias $b_3$, the output can be written as:\n",
        "\n",
        "$$\n",
        "y = w_3 y_1 + w_4 y_2 + b_3\n",
        "$$\n",
        "\n",
        "Substitute $y_1$ and $y_2$ from earlier:\n",
        "\n",
        "$$\n",
        "y = w_3 (w_1 x + b_1) + w_4 (w_2 x + b_2) + b_3\n",
        "$$\n",
        "\n",
        "Distribute the weights:\n",
        "\n",
        "$$\n",
        "y = (w_3 w_1 + w_4 w_2) x + (w_3 b_1 + w_4 b_2 + b_3)\n",
        "$$\n",
        "\n",
        "This can be rewritten as:\n",
        "\n",
        "$$\n",
        "y = W x + B\n",
        "$$\n",
        "\n",
        "Where:\n",
        "\n",
        "$$\n",
        "W = w_3 w_1 + w_4 w_2, \\quad B = w_3 b_1 + w_4 b_2 + b_3\n",
        "$$ -->\n"
      ]
    },
    {
      "cell_type": "markdown",
      "metadata": {
        "id": "Oiu6GKijTYIu"
      },
      "source": [
        "# To fit wedges, we need activation functions"
      ]
    },
    {
      "cell_type": "code",
      "execution_count": null,
      "metadata": {
        "colab": {
          "base_uri": "https://localhost:8080/",
          "height": 529
        },
        "id": "tmedAJLuTPXz",
        "outputId": "59f682ec-9af9-4fa4-8ab2-4f174ba2858e"
      },
      "outputs": [],
      "source": [
        "model = build_mlp_model(\n",
        "    size_sequence=[1, 1, 1], ## the extra 1 in the middle makes room for the activation function\n",
        "    bias=True,\n",
        "    activation=nn.ReLU()\n",
        ")\n",
        "\n",
        "test_loss = train_model(\n",
        "    model=model,\n",
        "    dataset_name=\"elbow\",\n",
        "    **default_train_config\n",
        ")\n",
        "show_video(filename=\"training.mp4\", width = 600)"
      ]
    },
    {
      "cell_type": "markdown",
      "metadata": {
        "id": "yP4JjjkzTklJ"
      },
      "source": [
        "# Let's see what happens in a more complex dataset"
      ]
    },
    {
      "cell_type": "code",
      "execution_count": null,
      "metadata": {
        "id": "m2Y7SAnQThtA"
      },
      "outputs": [],
      "source": [
        "model = build_mlp_model(\n",
        "    size_sequence=[1, 1, 1],\n",
        "    bias=True,\n",
        "    activation=nn.ReLU()\n",
        ")\n",
        "\n",
        "test_loss = train_model(\n",
        "    model=model,\n",
        "    dataset_name=\"zigzag_line\",\n",
        "    **default_train_config\n",
        ")\n",
        "show_video(filename=\"training.mp4\", width = 600)"
      ]
    },
    {
      "cell_type": "code",
      "execution_count": null,
      "metadata": {
        "id": "5n0_4cB2Tmeg"
      },
      "outputs": [],
      "source": [
        "model = build_mlp_model(\n",
        "    size_sequence=[1, 10, 1],\n",
        "    bias=True,\n",
        "    activation=nn.ReLU()\n",
        ")\n",
        "\n",
        "test_loss = train_model(\n",
        "    model=model,\n",
        "    dataset_name=\"zigzag_line\",\n",
        "    **default_train_config\n",
        ")\n",
        "show_video(filename=\"training.mp4\", width = 600)"
      ]
    },
    {
      "cell_type": "markdown",
      "metadata": {
        "id": "av9I9IpmTwEM"
      },
      "source": [
        "## Does this mean we can fit almost any function given enough neurons in a shallow network?\n",
        "\n",
        "Yes. But there's a catch. You'd need TONS of neurons! Too many of them sometimes.\n",
        "\n",
        "# Universal Approximation Theorem\n",
        "\n",
        "A single layer neural network can approxiate any function arbitrarily well. Given that you have _unlimited_ hidden units."
      ]
    },
    {
      "cell_type": "code",
      "execution_count": null,
      "metadata": {
        "colab": {
          "base_uri": "https://localhost:8080/",
          "height": 529
        },
        "id": "Fb-fu5LbToID",
        "outputId": "0f512cc5-6702-4755-9610-aad555d57e01"
      },
      "outputs": [],
      "source": [
        "model = build_mlp_model(\n",
        "    size_sequence=[1, 120, 1],\n",
        "    activation=nn.ReLU(),\n",
        "    bias = True\n",
        ")\n",
        "test_loss = train_model(\n",
        "    model=model,\n",
        "    dataset_name=\"zigzag_line\", ## options: \"sine_wave\", \"line\", \"zigzag_line\"\n",
        "    **default_train_config\n",
        ")\n",
        "show_video(filename=\"training.mp4\", width = 600)"
      ]
    },
    {
      "cell_type": "markdown",
      "metadata": {
        "id": "lYSB_qVyT7GA"
      },
      "source": [
        "## Depth makes neural nets more expressive without adding too many parameters\n",
        "\n",
        "The network shown below has far fewer neurons, but still works very well. This is by virtue of depth."
      ]
    },
    {
      "cell_type": "code",
      "execution_count": null,
      "metadata": {
        "colab": {
          "base_uri": "https://localhost:8080/",
          "height": 529
        },
        "id": "vqxWw1WuT1P3",
        "outputId": "be0e92b2-d9b6-4da3-85a4-5fb0bc253dc6"
      },
      "outputs": [],
      "source": [
        "model = build_mlp_model(\n",
        "    size_sequence=[1, 20, 20, 1],\n",
        "    activation=nn.ReLU(),\n",
        "    bias = True\n",
        ")\n",
        "test_loss = train_model(\n",
        "    model=model,\n",
        "    dataset_name=\"zigzag_line\", ## options: \"sine_wave\", \"line\", \"zigzag_line\"\n",
        "    **default_train_config\n",
        ")\n",
        "show_video(filename=\"training.mp4\", width = 600)"
      ]
    },
    {
      "cell_type": "markdown",
      "metadata": {
        "id": "w2M-Y7LdVGFZ"
      },
      "source": [
        "## Data in real life is not perfect. It is noisy. But neural networks do not know the difference between signal and noise."
      ]
    },
    {
      "cell_type": "code",
      "execution_count": null,
      "metadata": {
        "colab": {
          "base_uri": "https://localhost:8080/",
          "height": 529
        },
        "id": "lvZZhcZQT_XN",
        "outputId": "3b746596-6003-4423-92fe-837cde62fd3a"
      },
      "outputs": [],
      "source": [
        "model = build_mlp_model(\n",
        "    size_sequence=[1, 120, 1],\n",
        "    bias = True,\n",
        "    activation=nn.ReLU()\n",
        ")\n",
        "\n",
        "test_loss = train_model(\n",
        "    model=model,\n",
        "    dataset_name=\"noisy_line\",\n",
        "    dataset_noise=0.3,\n",
        "    noisy_data=True,\n",
        "    **default_train_config\n",
        ")\n",
        "show_video(filename=\"training.mp4\", width = 600)"
      ]
    },
    {
      "cell_type": "code",
      "execution_count": null,
      "metadata": {
        "colab": {
          "base_uri": "https://localhost:8080/",
          "height": 529
        },
        "id": "lz33nuHKVHXS",
        "outputId": "5c948af0-e30b-4cd0-9518-063dfc3ec824"
      },
      "outputs": [],
      "source": [
        "model = build_mlp_model(\n",
        "    size_sequence=[1, 1],\n",
        "    bias = True,\n",
        "    activation=nn.ReLU()\n",
        ")\n",
        "\n",
        "test_loss = train_model(\n",
        "    model=model,\n",
        "    dataset_name=\"noisy_line\",\n",
        "    noisy_data=True,\n",
        "    dataset_noise=0.2,\n",
        "    **default_train_config\n",
        ")\n",
        "show_video(filename=\"training.mp4\", width = 600)"
      ]
    },
    {
      "cell_type": "code",
      "execution_count": null,
      "metadata": {
        "id": "Oe5t2ANbVJin"
      },
      "outputs": [],
      "source": []
    }
  ],
  "metadata": {
    "colab": {
      "provenance": []
    },
    "kernelspec": {
      "display_name": "Python 3",
      "name": "python3"
    },
    "language_info": {
      "name": "python"
    }
  },
  "nbformat": 4,
  "nbformat_minor": 0
}
