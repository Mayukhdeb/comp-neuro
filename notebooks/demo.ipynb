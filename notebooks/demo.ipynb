{
 "cells": [
  {
   "cell_type": "code",
   "execution_count": null,
   "id": "9d3834d6",
   "metadata": {},
   "outputs": [],
   "source": [
    "%load_ext autoreload\n",
    "%autoreload 2"
   ]
  },
  {
   "cell_type": "code",
   "execution_count": 106,
   "id": "f557d1d3-151e-4434-810b-0e49cf48b92d",
   "metadata": {},
   "outputs": [],
   "source": [
    "import torch.nn as nn\n",
    "from compneuro.training import train_model\n",
    "from compneuro.mlp import build_mlp_model, visualize_mlp\n",
    "from compneuro.utils.video import show_video\n",
    "\n",
    "save_dir = \"results/vis/single_neuron\""
   ]
  },
  {
   "cell_type": "code",
   "execution_count": 110,
   "id": "9b87fea5-277c-4edd-b022-a2e9e2df7978",
   "metadata": {},
   "outputs": [],
   "source": [
    "default_train_config = dict(\n",
    "    learning_rate=0.03,\n",
    "    batch_size=32,\n",
    "    num_epochs=100,\n",
    "    num_data_points=50,\n",
    "    test_data_fraction=0.3,\n",
    "    visualize_every_nth_step=1,\n",
    "    video_frames_folder=save_dir,\n",
    "    save_video_as=\"single_neuron_training.mp4\",\n",
    ")"
   ]
  },
  {
   "cell_type": "markdown",
   "id": "f144ae78-67c7-4899-87da-782193c13aa9",
   "metadata": {},
   "source": [
    "# Training a Single Neuron to fit a line"
   ]
  },
  {
   "cell_type": "code",
   "execution_count": 111,
   "id": "e1376802-4463-459e-b49f-07fb32117b71",
   "metadata": {},
   "outputs": [],
   "source": [
    "model = build_mlp_model(\n",
    "    size_sequence=[1, 1], \n",
    ")"
   ]
  },
  {
   "cell_type": "code",
   "execution_count": null,
   "id": "f02a4a28-8956-4c06-a5ad-1fd64bd66dae",
   "metadata": {},
   "outputs": [],
   "source": [
    "test_loss = train_model(\n",
    "    model=model,\n",
    "    dataset_name=\"line_through_zero\", ## options: \"sine_wave\", \"line\", \"zigzag_line\"\n",
    "    **default_train_config\n",
    ")"
   ]
  },
  {
   "cell_type": "code",
   "execution_count": null,
   "id": "29f63513-0f68-4271-8497-233e8a7acbf1",
   "metadata": {},
   "outputs": [],
   "source": [
    "show_video(filename=\"single_neuron_training.mp4\", width = 600)"
   ]
  },
  {
   "cell_type": "markdown",
   "id": "ab20103b",
   "metadata": {},
   "source": [
    "## That was easy enough, but what if the line does not go through the origin? would it still work?"
   ]
  },
  {
   "cell_type": "code",
   "execution_count": null,
   "id": "911d0410-c47d-4a2f-858b-85810acad066",
   "metadata": {},
   "outputs": [],
   "source": [
    "model = build_mlp_model(\n",
    "    size_sequence=[1, 1],\n",
    ")\n",
    "test_loss = train_model(\n",
    "    model=model,\n",
    "    dataset_name=\"line\", ## options: \"sine_wave\", \"line\", \"zigzag_line\"\n",
    "    **default_train_config\n",
    ")\n",
    "show_video(filename=\"single_neuron_training.mp4\", width = 600)"
   ]
  },
  {
   "cell_type": "markdown",
   "id": "46c9a006-d700-4f1c-9b57-e6717f4d2d2e",
   "metadata": {},
   "source": [
    "## This is why, we need a bias. It helps fit to a line which does not pass through the origin."
   ]
  },
  {
   "cell_type": "code",
   "execution_count": null,
   "id": "4459f531",
   "metadata": {},
   "outputs": [],
   "source": [
    "model = build_mlp_model(\n",
    "    size_sequence=[1, 1],\n",
    "    bias=True\n",
    ")\n",
    "test_loss = train_model(\n",
    "    model=model,\n",
    "    dataset_name=\"line\", ## options: \"sine_wave\", \"line\", \"zigzag_line\"\n",
    "    **default_train_config\n",
    ")\n",
    "show_video(filename=\"single_neuron_training.mp4\", width = 600)"
   ]
  },
  {
   "cell_type": "markdown",
   "id": "bf261b07-f312-4eb5-bd61-04dc8841965f",
   "metadata": {},
   "source": [
    "# Can a Single neuron model learn something more complex?"
   ]
  },
  {
   "cell_type": "code",
   "execution_count": null,
   "id": "9cf765a9-a325-4d5f-8fdf-688110ee99b4",
   "metadata": {},
   "outputs": [],
   "source": [
    "model = build_mlp_model(\n",
    "    size_sequence=[1, 1, 1], ## stack more neurons here in any way you want, it'll still not fit to the wedge data\n",
    "    bias=True\n",
    ")\n",
    "\n",
    "test_loss = train_model(\n",
    "    model=model,\n",
    "    dataset_name=\"elbow\",\n",
    "    **default_train_config\n",
    ")\n",
    "show_video(filename=\"single_neuron_training.mp4\", width = 600)"
   ]
  },
  {
   "cell_type": "markdown",
   "id": "7f6d0a89",
   "metadata": {},
   "source": [
    "## Note that stacking more neurons is the same as having one neuron with a different weight and bias\n",
    "\n",
    "Say we have a 2-neuron model:  \n",
    "\n",
    "$$\n",
    "y = w_2 (w_1 x + b_1) + b_2\n",
    "$$\n",
    "\n",
    "This can be rewritten as:  \n",
    "\n",
    "$$\n",
    "y = w_2 w_1 x + w_2 b_1 + b_2\n",
    "$$\n",
    "\n",
    "$$\n",
    "y = W x + B\n",
    "$$\n",
    "\n",
    "where  \n",
    "\n",
    "$$\n",
    "W = w_2 w_1, \\quad B = w_2 b_1 + b_2.\n",
    "$$\n",
    "\n",
    "Thus, the composition of two neurons is equivalent to a single neuron with an effective weight $W$ and bias $B$.\n",
    "\n",
    "<!-- Or let's say we have a model with 2 hidden neurons:\n",
    "\n",
    "$$\n",
    "y_1 = w_1 x + b_1 \\quad \\text{and} \\quad y_2 = w_2 x + b_2\n",
    "$$ -->\n",
    "\n",
    "<!-- Now, if we have these two neurons connected to a single output neuron with weights $w_3$ and $w_4$ and bias $b_3$, the output can be written as:\n",
    "\n",
    "$$\n",
    "y = w_3 y_1 + w_4 y_2 + b_3\n",
    "$$\n",
    "\n",
    "Substitute $y_1$ and $y_2$ from earlier:\n",
    "\n",
    "$$\n",
    "y = w_3 (w_1 x + b_1) + w_4 (w_2 x + b_2) + b_3\n",
    "$$\n",
    "\n",
    "Distribute the weights:\n",
    "\n",
    "$$\n",
    "y = (w_3 w_1 + w_4 w_2) x + (w_3 b_1 + w_4 b_2 + b_3)\n",
    "$$\n",
    "\n",
    "This can be rewritten as:\n",
    "\n",
    "$$\n",
    "y = W x + B\n",
    "$$\n",
    "\n",
    "Where:\n",
    "\n",
    "$$\n",
    "W = w_3 w_1 + w_4 w_2, \\quad B = w_3 b_1 + w_4 b_2 + b_3\n",
    "$$ -->\n"
   ]
  },
  {
   "cell_type": "markdown",
   "id": "6dfa5be6",
   "metadata": {},
   "source": [
    "## To fit wedges, we need activation functions"
   ]
  },
  {
   "cell_type": "code",
   "execution_count": null,
   "id": "27c37da1",
   "metadata": {},
   "outputs": [],
   "source": [
    "model = build_mlp_model(\n",
    "    size_sequence=[1, 1, 1],\n",
    "    bias=True,\n",
    "    activation=nn.ReLU()\n",
    ")\n",
    "\n",
    "test_loss = train_model(\n",
    "    model=model,\n",
    "    dataset_name=\"elbow\",\n",
    "    **default_train_config\n",
    ")\n",
    "show_video(filename=\"single_neuron_training.mp4\", width = 600)"
   ]
  },
  {
   "cell_type": "markdown",
   "id": "31c17edd-4e3b-42d3-8717-d5bf3823c3d2",
   "metadata": {},
   "source": [
    "## Let's see what happens in a more complex dataset"
   ]
  },
  {
   "cell_type": "code",
   "execution_count": null,
   "id": "040fb335",
   "metadata": {},
   "outputs": [],
   "source": [
    "model = build_mlp_model(\n",
    "    size_sequence=[1, 1, 1],\n",
    "    bias=True,\n",
    "    activation=nn.ReLU()\n",
    ")\n",
    "\n",
    "test_loss = train_model(\n",
    "    model=model,\n",
    "    dataset_name=\"zigzag_line\",\n",
    "    **default_train_config\n",
    ")\n",
    "show_video(filename=\"single_neuron_training.mp4\", width = 600)"
   ]
  },
  {
   "cell_type": "code",
   "execution_count": null,
   "id": "3f1ddc5b",
   "metadata": {},
   "outputs": [],
   "source": [
    "model = build_mlp_model(\n",
    "    size_sequence=[1, 10, 1],\n",
    "    bias=True,\n",
    "    activation=nn.ReLU()\n",
    ")\n",
    "\n",
    "test_loss = train_model(\n",
    "    model=model,\n",
    "    dataset_name=\"zigzag_line\",\n",
    "    **default_train_config\n",
    ")\n",
    "show_video(filename=\"single_neuron_training.mp4\", width = 600)"
   ]
  },
  {
   "cell_type": "markdown",
   "id": "4a7539da",
   "metadata": {},
   "source": [
    "## Let's now try fitting a very complex function"
   ]
  },
  {
   "cell_type": "code",
   "execution_count": null,
   "id": "e667ca30",
   "metadata": {},
   "outputs": [],
   "source": [
    "model = build_mlp_model(\n",
    "    size_sequence=[1, 80, 1],\n",
    "    bias=True,\n",
    "    activation=nn.ReLU()\n",
    ")\n",
    "\n",
    "test_loss = train_model(\n",
    "    model=model,\n",
    "    dataset_name=\"sin_relu\",\n",
    "    **default_train_config\n",
    ")\n",
    "show_video(filename=\"single_neuron_training.mp4\", width = 600)"
   ]
  },
  {
   "cell_type": "markdown",
   "id": "6bed7a83",
   "metadata": {},
   "source": [
    "## Does this mean we can fit almost any function given enough neurons in a shallow network?\n",
    "\n",
    "Yes. But there's a catch. You'd need TONS of neurons! Too many of them sometimes."
   ]
  },
  {
   "cell_type": "markdown",
   "id": "0581cac7-4df6-4a71-a1b0-2daf48d8fd39",
   "metadata": {},
   "source": [
    "# Universal Approximation Theorem\n",
    "\n",
    "A single layer neural network can approxiate any function arbitrarily well. Given that you have _unlimited_ hidden units."
   ]
  },
  {
   "cell_type": "code",
   "execution_count": null,
   "id": "f5ad5023-1cae-4654-b98a-3aa77e963251",
   "metadata": {},
   "outputs": [],
   "source": [
    "model = build_mlp_model(\n",
    "    size_sequence=[1, 120, 1], \n",
    "    activation=nn.ReLU(),\n",
    "    bias = True\n",
    ")\n",
    "test_loss = train_model(\n",
    "    model=model,\n",
    "    dataset_name=\"zigzag_line\", ## options: \"sine_wave\", \"line\", \"zigzag_line\"\n",
    "    **default_train_config\n",
    ")\n",
    "show_video(filename=\"single_neuron_training.mp4\", width = 600)"
   ]
  },
  {
   "cell_type": "markdown",
   "id": "741e9e60",
   "metadata": {},
   "source": [
    "## Depth makes neural nets more expressive without adding too many parameters\n",
    "\n",
    "The network shown below has far fewer neurons, but still works very well. This is by virtue of depth."
   ]
  },
  {
   "cell_type": "code",
   "execution_count": null,
   "id": "b44fbe3f-a166-42e6-81cf-27ba6e82e649",
   "metadata": {},
   "outputs": [],
   "source": [
    "model = build_mlp_model(\n",
    "    size_sequence=[1, 20, 20, 1], \n",
    "    activation=nn.ReLU(),\n",
    "    bias = True\n",
    ")\n",
    "test_loss = train_model(\n",
    "    model=model,\n",
    "    dataset_name=\"zigzag_line\", ## options: \"sine_wave\", \"line\", \"zigzag_line\"\n",
    "    **default_train_config\n",
    ")\n",
    "show_video(filename=\"single_neuron_training.mp4\", width = 600)"
   ]
  },
  {
   "cell_type": "markdown",
   "id": "fa88d396",
   "metadata": {},
   "source": [
    "## Data in real life is not perfect. It is noisy. But neural networks do not know the difference between signal and noise."
   ]
  },
  {
   "cell_type": "code",
   "execution_count": null,
   "id": "bc396ba9",
   "metadata": {},
   "outputs": [],
   "source": [
    "model = build_mlp_model(\n",
    "    size_sequence=[1, 120, 1],\n",
    "    bias = True,\n",
    "    activation=nn.ReLU()\n",
    ")\n",
    "\n",
    "test_loss = train_model(\n",
    "    model=model,\n",
    "    dataset_name=\"noisy_line\",\n",
    "    dataset_noise=0.2,\n",
    "    noisy_data=True,\n",
    "    **default_train_config\n",
    ")\n",
    "show_video(filename=\"single_neuron_training.mp4\", width = 600)"
   ]
  },
  {
   "cell_type": "code",
   "execution_count": null,
   "id": "c89b1ae6",
   "metadata": {},
   "outputs": [],
   "source": [
    "model = build_mlp_model(\n",
    "    size_sequence=[1, 1],\n",
    "    bias = True,\n",
    "    activation=nn.ReLU()\n",
    ")\n",
    "\n",
    "# default_train_config['dataset_noise'] = 0.8\n",
    "# default_train_config['num_data_points'] = 30\n",
    "test_loss = train_model(\n",
    "    model=model,\n",
    "    dataset_name=\"noisy_line\",\n",
    "    noisy_data=True,\n",
    "    dataset_noise=0.2,\n",
    "    **default_train_config\n",
    ")\n",
    "show_video(filename=\"single_neuron_training.mp4\", width = 600)"
   ]
  },
  {
   "cell_type": "code",
   "execution_count": null,
   "id": "bfbaff8e",
   "metadata": {},
   "outputs": [],
   "source": []
  }
 ],
 "metadata": {
  "kernelspec": {
   "display_name": "Python 3 (ipykernel)",
   "language": "python",
   "name": "python3"
  },
  "language_info": {
   "codemirror_mode": {
    "name": "ipython",
    "version": 3
   },
   "file_extension": ".py",
   "mimetype": "text/x-python",
   "name": "python",
   "nbconvert_exporter": "python",
   "pygments_lexer": "ipython3",
   "version": "3.10.16"
  }
 },
 "nbformat": 4,
 "nbformat_minor": 5
}
